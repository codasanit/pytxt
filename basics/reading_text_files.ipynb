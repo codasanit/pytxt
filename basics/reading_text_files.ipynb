{
 "cells": [
  {
   "cell_type": "markdown",
   "metadata": {},
   "source": [
    "# Reading and Writing Text Files"
   ]
  },
  {
   "cell_type": "markdown",
   "metadata": {},
   "source": [
    "### Creating and writing into files in python"
   ]
  },
  {
   "cell_type": "markdown",
   "metadata": {},
   "source": [
    "The following line of code opens the file file1.txt for writing on it. \n",
    "If file1.txt doenn't exist, it creates it first.\n",
    "If file1.txt exists, this code first opens the file and then cleans all the content of the file and waits for new content to be written."
   ]
  },
  {
   "cell_type": "code",
   "execution_count": 54,
   "metadata": {},
   "outputs": [],
   "source": [
    "f1 = open(\"file1.txt\", \"w\") "
   ]
  },
  {
   "cell_type": "markdown",
   "metadata": {},
   "source": [
    "The following code writes a line in file1.txt.\n",
    "Please note that we have to add the new line character \\n at the end of the test to explicitly create the new line. Otherwise when we write another line of text It continues from the end of preceding text."
   ]
  },
  {
   "cell_type": "code",
   "execution_count": 55,
   "metadata": {},
   "outputs": [
    {
     "data": {
      "text/plain": [
       "24"
      ]
     },
     "execution_count": 55,
     "metadata": {},
     "output_type": "execute_result"
    }
   ],
   "source": [
    "f1.write(\"This is line 1 in file1\\n\")"
   ]
  },
  {
   "cell_type": "code",
   "execution_count": 56,
   "metadata": {},
   "outputs": [
    {
     "data": {
      "text/plain": [
       "50"
      ]
     },
     "execution_count": 56,
     "metadata": {},
     "output_type": "execute_result"
    }
   ],
   "source": [
    "f1.write(\"This is the first part of line 2 in file1.\")\n",
    "f1.write(\" And, this is the second part of line 2 in file1.\\n\")"
   ]
  },
  {
   "cell_type": "code",
   "execution_count": 57,
   "metadata": {},
   "outputs": [
    {
     "data": {
      "text/plain": [
       "38"
      ]
     },
     "execution_count": 57,
     "metadata": {},
     "output_type": "execute_result"
    }
   ],
   "source": [
    "f1.write(\"And finally, this is line 3 in file1.\\n\")"
   ]
  },
  {
   "cell_type": "markdown",
   "metadata": {},
   "source": [
    "### We MUST always close the file after performing our operations. Otherwise it may cause unexpected reslts!"
   ]
  },
  {
   "cell_type": "code",
   "execution_count": 58,
   "metadata": {},
   "outputs": [],
   "source": [
    "f1.close()"
   ]
  },
  {
   "cell_type": "markdown",
   "metadata": {},
   "source": [
    "### Creating and writing into a text file on the fly in jupyter notebook:\n",
    "The following trick for creating a text file is only applicable in jupyter notebook:"
   ]
  },
  {
   "cell_type": "code",
   "execution_count": 59,
   "metadata": {},
   "outputs": [
    {
     "name": "stdout",
     "output_type": "stream",
     "text": [
      "Overwriting file2.txt\n"
     ]
    }
   ],
   "source": [
    "%%writefile file2.txt\n",
    "This is a sample text file generated in jupyter notebook.\n",
    "This is the second line of the file."
   ]
  },
  {
   "cell_type": "markdown",
   "metadata": {},
   "source": [
    "### Reading a text file\n",
    "To read a text file, first we need to open it. Using the parameter 'r' indicating the purpuse of reading is recommended, althogh not necessary."
   ]
  },
  {
   "cell_type": "code",
   "execution_count": 60,
   "metadata": {},
   "outputs": [
    {
     "data": {
      "text/plain": [
       "'This is line 1 in file1\\nThis is the first part of line 2 in file1. And, this is the second part of line 2 in file1.\\nAnd finally, this is line 3 in file1.\\n'"
      ]
     },
     "execution_count": 60,
     "metadata": {},
     "output_type": "execute_result"
    }
   ],
   "source": [
    "file = open('file1.txt', 'r') # does the same thing as file = open('file1.txt')\n",
    "content = file.read()\n",
    "content"
   ]
  },
  {
   "cell_type": "markdown",
   "metadata": {},
   "source": [
    "One notes that after reading the content of a file the control moves to the end of the file. Therefore if we try to read the same file, we get no character. To be able to read the content of the file we need to manally replace the control at the beginning of the file."
   ]
  },
  {
   "cell_type": "code",
   "execution_count": 61,
   "metadata": {},
   "outputs": [
    {
     "name": "stdout",
     "output_type": "stream",
     "text": [
      "\n",
      "This is line 1 in file1\n",
      "This is the first part of line 2 in file1. And, this is the second part of line 2 in file1.\n",
      "And finally, this is line 3 in file1.\n",
      "\n"
     ]
    }
   ],
   "source": [
    "print(file.read()) # It won't read any character!\n",
    "file.seek(0)       # Moving the control to the beginning of the file\n",
    "print(file.read())"
   ]
  },
  {
   "cell_type": "markdown",
   "metadata": {},
   "source": [
    "### Reading a file as a list of its lines"
   ]
  },
  {
   "cell_type": "code",
   "execution_count": 62,
   "metadata": {},
   "outputs": [
    {
     "name": "stdout",
     "output_type": "stream",
     "text": [
      "line 1 of the file: This is line 1 in file1\n",
      "\n",
      "line 2 of the file: This is the first part of line 2 in file1. And, this is the second part of line 2 in file1.\n",
      "\n",
      "line 3 of the file: And finally, this is line 3 in file1.\n",
      "\n"
     ]
    }
   ],
   "source": [
    "file.seek(0)\n",
    "list_lines = file.readlines()   # Function readlines() reads a file and returns the set of its lines as a list\n",
    "for n, line in enumerate(list_lines):\n",
    "    print(f\"line {n + 1} of the file: {line}\")"
   ]
  },
  {
   "cell_type": "code",
   "execution_count": 63,
   "metadata": {},
   "outputs": [],
   "source": [
    "file.close()"
   ]
  },
  {
   "cell_type": "markdown",
   "metadata": {},
   "source": [
    "### Appending to the end of a file"
   ]
  },
  {
   "cell_type": "code",
   "execution_count": 64,
   "metadata": {},
   "outputs": [],
   "source": [
    "file = open(\"file2.txt\", 'a')\n",
    "file.write(\"This is a line of text appended to the end of file2.txt, without adding the new line character!\")\n",
    "file.close()"
   ]
  },
  {
   "cell_type": "code",
   "execution_count": 65,
   "metadata": {},
   "outputs": [
    {
     "data": {
      "text/plain": [
       "'This is a sample text file generated in jupyter notebook.\\nThis is the second line of the file.\\nThis is a line of text appended to the end of file2.txt, without adding the new line character!'"
      ]
     },
     "execution_count": 65,
     "metadata": {},
     "output_type": "execute_result"
    }
   ],
   "source": [
    "file = open(\"file2.txt\")\n",
    "file.read()"
   ]
  },
  {
   "cell_type": "markdown",
   "metadata": {},
   "source": [
    "We see that when we open a file with the mode 'a' We can write at the end of the file using the function write()."
   ]
  },
  {
   "cell_type": "code",
   "execution_count": 66,
   "metadata": {},
   "outputs": [],
   "source": [
    "file.close()"
   ]
  },
  {
   "cell_type": "markdown",
   "metadata": {},
   "source": [
    "### Reading and writing on a file at the same time\n",
    "To read read a file and write on it with one opening of the file, we should use 'a+' (for appending) and 'w+' for deleting and rewriting new content on the file."
   ]
  },
  {
   "cell_type": "code",
   "execution_count": 67,
   "metadata": {},
   "outputs": [
    {
     "name": "stdout",
     "output_type": "stream",
     "text": [
      "\n",
      "\n"
     ]
    }
   ],
   "source": [
    "file1 = open(\"file2.txt\", \"w+\")\n",
    "print(file1.read())\n",
    "file1.write(\"This is a new text, which is going to written over the content of file2.txt\")\n",
    "print(file1.read())\n",
    "file1.close()"
   ]
  },
  {
   "cell_type": "markdown",
   "metadata": {},
   "source": [
    "## By pressing Shift+Tab+Tab keys, we can see the options of opening a file as follows:\n",
    "Signature:\n",
    "\n",
    "open(\n",
    "    file,\n",
    "    mode='r',\n",
    "    buffering=-1,\n",
    "    encoding=None,\n",
    "    errors=None,\n",
    "    newline=None,\n",
    "    closefd=True,\n",
    "    opener=None,\n",
    ")\n",
    "\n",
    "Docstring:\n",
    "Open file and return a stream.  Raise OSError upon failure.\n",
    "\n",
    "file is either a text or byte string giving the name (and the path\n",
    "if the file isn't in the current working directory) of the file to\n",
    "be opened or an integer file descriptor of the file to be\n",
    "wrapped. (If a file descriptor is given, it is closed when the\n",
    "returned I/O object is closed, unless closefd is set to False.)\n",
    "\n",
    "mode is an optional string that specifies the mode in which the file\n",
    "is opened. It defaults to 'r' which means open for reading in text\n",
    "mode.  Other common values are 'w' for writing (truncating the file if\n",
    "it already exists), 'x' for creating and writing to a new file, and\n",
    "'a' for appending (which on some Unix systems, means that all writes\n",
    "append to the end of the file regardless of the current seek position).\n",
    "In text mode, if encoding is not specified the encoding used is platform\n",
    "dependent: locale.getpreferredencoding(False) is called to get the\n",
    "current locale encoding. (For reading and writing raw bytes use binary\n",
    "mode and leave encoding unspecified.) The available modes are:\n",
    "\n",
    "========= ===============================================================\n",
    "Character Meaning\n",
    "--------- ---------------------------------------------------------------\n",
    "'r'       open for reading (default)\n",
    "\n",
    "'w'       open for writing, truncating the file first\n",
    "\n",
    "'x'       create a new file and open it for writing\n",
    "\n",
    "'a'       open for writing, appending to the end of the file if it exists\n",
    "\n",
    "'b'       binary mode\n",
    "\n",
    "'t'       text mode (default)\n",
    "\n",
    "'+'       open a disk file for updating (reading and writing)\n",
    "\n",
    "'U'       universal newline mode (deprecated)\n",
    "\n",
    "========= ===============================================================\n",
    "\n",
    "The default mode is 'rt' (open for reading text). For binary random\n",
    "access, the mode 'w+b' opens and truncates the file to 0 bytes, while\n",
    "'r+b' opens the file without truncation. The 'x' mode implies 'w' and\n",
    "raises an `FileExistsError` if the file already exists.\n",
    "\n",
    "Python distinguishes between files opened in binary and text modes,\n",
    "even when the underlying operating system doesn't. Files opened in\n",
    "binary mode (appending 'b' to the mode argument) return contents as\n",
    "bytes objects without any decoding. In text mode (the default, or when\n",
    "'t' is appended to the mode argument), the contents of the file are\n",
    "returned as strings, the bytes having been first decoded using a\n",
    "platform-dependent encoding or using the specified encoding if given.\n",
    "\n",
    "'U' mode is deprecated and will raise an exception in future versions\n",
    "of Python.  It has no effect in Python 3.  Use newline to control\n",
    "universal newlines mode.\n",
    "\n",
    "buffering is an optional integer used to set the buffering policy.\n",
    "Pass 0 to switch buffering off (only allowed in binary mode), 1 to select\n",
    "line buffering (only usable in text mode), and an integer > 1 to indicate\n",
    "the size of a fixed-size chunk buffer.  When no buffering argument is\n",
    "given, the default buffering policy works as follows:\n",
    "\n",
    "* Binary files are buffered in fixed-size chunks; the size of the buffer\n",
    "  is chosen using a heuristic trying to determine the underlying device's\n",
    "  \"block size\" and falling back on `io.DEFAULT_BUFFER_SIZE`.\n",
    "  On many systems, the buffer will typically be 4096 or 8192 bytes long.\n",
    "\n",
    "* \"Interactive\" text files (files for which isatty() returns True)\n",
    "  use line buffering.  Other text files use the policy described above\n",
    "  for binary files.\n",
    "\n",
    "encoding is the name of the encoding used to decode or encode the\n",
    "file. This should only be used in text mode. The default encoding is\n",
    "platform dependent, but any encoding supported by Python can be\n",
    "passed.  See the codecs module for the list of supported encodings.\n",
    "\n",
    "errors is an optional string that specifies how encoding errors are to\n",
    "be handled---this argument should not be used in binary mode. Pass\n",
    "'strict' to raise a ValueError exception if there is an encoding error\n",
    "(the default of None has the same effect), or pass 'ignore' to ignore\n",
    "errors. (Note that ignoring encoding errors can lead to data loss.)\n",
    "See the documentation for codecs.register or run 'help(codecs.Codec)'\n",
    "for a list of the permitted encoding error strings.\n",
    "\n",
    "newline controls how universal newlines works (it only applies to text\n",
    "mode). It can be None, '', '\\n', '\\r', and '\\r\\n'.  It works as\n",
    "follows:\n",
    "\n",
    "* On input, if newline is None, universal newlines mode is\n",
    "  enabled. Lines in the input can end in '\\n', '\\r', or '\\r\\n', and\n",
    "  these are translated into '\\n' before being returned to the\n",
    "  caller. If it is '', universal newline mode is enabled, but line\n",
    "  endings are returned to the caller untranslated. If it has any of\n",
    "  the other legal values, input lines are only terminated by the given\n",
    "  string, and the line ending is returned to the caller untranslated.\n",
    "\n",
    "* On output, if newline is None, any '\\n' characters written are\n",
    "  translated to the system default line separator, os.linesep. If\n",
    "  newline is '' or '\\n', no translation takes place. If newline is any\n",
    "  of the other legal values, any '\\n' characters written are translated\n",
    "  to the given string.\n",
    "\n",
    "If closefd is False, the underlying file descriptor will be kept open\n",
    "when the file is closed. This does not work when a file name is given\n",
    "and must be True in that case.\n",
    "\n",
    "A custom opener can be used by passing a callable as *opener*. The\n",
    "underlying file descriptor for the file object is then obtained by\n",
    "calling *opener* with (*file*, *flags*). *opener* must return an open\n",
    "file descriptor (passing os.open as *opener* results in functionality\n",
    "similar to passing None).\n",
    "\n",
    "open() returns a file object whose type depends on the mode, and\n",
    "through which the standard file operations such as reading and writing\n",
    "are performed. When open() is used to open a file in a text mode ('w',\n",
    "'r', 'wt', 'rt', etc.), it returns a TextIOWrapper. When used to open\n",
    "a file in a binary mode, the returned class varies: in read binary\n",
    "mode, it returns a BufferedReader; in write binary and append binary\n",
    "modes, it returns a BufferedWriter, and in read/write mode, it returns\n",
    "a BufferedRandom.\n",
    "\n",
    "It is also possible to use a string or bytearray as a file for both\n",
    "reading and writing. For strings StringIO can be used like a file\n",
    "opened in a text mode, and for bytes a BytesIO can be used like a file\n",
    "opened in a binary mode.\n",
    "Type:      builtin_function_or_method"
   ]
  },
  {
   "cell_type": "markdown",
   "metadata": {},
   "source": [
    "## Using with statement ot read and close file safely\n",
    "with statement has two benefits: \n",
    "1. If the file does not exist, it just ignores the block of the code and moves on with the rest of the code.\n",
    "2. Secondly, it closes automatically the file for us."
   ]
  },
  {
   "cell_type": "code",
   "execution_count": 68,
   "metadata": {},
   "outputs": [
    {
     "name": "stdout",
     "output_type": "stream",
     "text": [
      "This is line 1 in file1\n",
      "This is the first part of line 2 in file1. And, this is the second part of line 2 in file1.\n",
      "And finally, this is line 3 in file1.\n",
      "\n"
     ]
    }
   ],
   "source": [
    "with open(\"file1.txt\", 'r') as f1:\n",
    "    print(f1.read())"
   ]
  },
  {
   "cell_type": "code",
   "execution_count": 69,
   "metadata": {},
   "outputs": [
    {
     "data": {
      "text/plain": [
       "True"
      ]
     },
     "execution_count": 69,
     "metadata": {},
     "output_type": "execute_result"
    }
   ],
   "source": [
    "f1.closed # This shows that the file assigned to f1 is closed now."
   ]
  },
  {
   "cell_type": "code",
   "execution_count": null,
   "metadata": {},
   "outputs": [],
   "source": []
  }
 ],
 "metadata": {
  "kernelspec": {
   "display_name": "Python 3",
   "language": "python",
   "name": "python3"
  },
  "language_info": {
   "codemirror_mode": {
    "name": "ipython",
    "version": 3
   },
   "file_extension": ".py",
   "mimetype": "text/x-python",
   "name": "python",
   "nbconvert_exporter": "python",
   "pygments_lexer": "ipython3",
   "version": "3.8.3"
  }
 },
 "nbformat": 4,
 "nbformat_minor": 4
}
