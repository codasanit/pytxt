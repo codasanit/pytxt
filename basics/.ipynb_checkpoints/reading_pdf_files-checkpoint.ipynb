{
 "cells": [
  {
   "cell_type": "markdown",
   "metadata": {},
   "source": [
    "# Reading Text from PDF Files\n",
    "In this page, we review some basic commands useful for reading text from pdf files. We consider two different libraries:\n",
    "### PyPDF2\n",
    "and \n",
    "### pdfreader"
   ]
  },
  {
   "cell_type": "code",
   "execution_count": 6,
   "metadata": {},
   "outputs": [],
   "source": [
    "import PyPDF2"
   ]
  },
  {
   "cell_type": "code",
   "execution_count": 7,
   "metadata": {},
   "outputs": [],
   "source": [
    "f1 = open(\"us0.pdf\", \"rb\") # the mode \"rb\" means \"reading binary\" files\n",
    "reader = PyPDF2.PdfFileReader(f1)"
   ]
  },
  {
   "cell_type": "code",
   "execution_count": 8,
   "metadata": {},
   "outputs": [
    {
     "data": {
      "text/plain": [
       "5"
      ]
     },
     "execution_count": 8,
     "metadata": {},
     "output_type": "execute_result"
    }
   ],
   "source": [
    "reader.numPages"
   ]
  },
  {
   "cell_type": "code",
   "execution_count": 9,
   "metadata": {},
   "outputs": [
    {
     "name": "stdout",
     "output_type": "stream",
     "text": [
      "He has dissolved Representative Houses repeatedly, for opposing with manlyfirmness his invasions on the rights of the people.He has refused for a long time, after such dissolutions, to cause others to beelected; whereby the Legislative powers, incapable of Annihilation, have returnedto the People at large for their exercise; the State remaining in the mean timeexposed to all the dangers of invasion from without, and convulsions within.He has endeavoured to prevent the population of these States; for that purposeobstructing the Laws for Naturalization of Foreigners; refusing to pass others toencourage their migrations hither, and raising the conditions of newAppropriations of Lands.He has obstructed the Administration of Justice, by refusing his Assent to Lawsfor establishing Judiciary powers.He has made Judges dependent on his Will alone, for the tenure of their offices,and the amount and payment of their salaries.He has erected a multitude of New Offices, and sent hither swarms of Officers toharrass our people, and eat out their substance.He has kept among us, in times of peace, Standing Armies without the Consent ofour legislatures.He has affected to render the Military independent of and superior to the Civil power.He has combined with others to subject us to a jurisdiction foreign to ourconstitution, and unacknowledged by our laws; giving his Assent to their Acts ofpretended Legislation:For Quartering large bodies of armed troops among us:For protecting them, by a mock Trial, from punishment for any Murders whichthey should commit on the Inhabitants of these States:For cutting off our Trade with all parts of the world:For imposing Taxes on us without our Consent: For depriving us in many cases,of the benefits of Trial by Jury:For transporting us beyond Seas to be tried for pretended offencesFor abolishing the free System of English Laws in a neighbouring Province,establishing therein an Arbitrary government, and enlarging its Boundaries so as\n"
     ]
    }
   ],
   "source": [
    "page1 = reader.getPage(1) # This reads the content of page 2 of the file\n",
    "print(page1.extractText()) # This extracts only test part of the page"
   ]
  },
  {
   "cell_type": "code",
   "execution_count": 11,
   "metadata": {},
   "outputs": [],
   "source": [
    "f1.close()"
   ]
  },
  {
   "cell_type": "markdown",
   "metadata": {},
   "source": [
    "#### One notes that the end of each line in the pdf text is attached (without any whitespace) to the beginning of the next line.\n",
    "#### Therefore one has to remedy this problem with some extra work.\n",
    "#### This will also happens when using \"pdfreader\"."
   ]
  },
  {
   "cell_type": "markdown",
   "metadata": {},
   "source": [
    "### One should note that the method based on PyPDF2 does not work for every pdf file such as the following file which was extracted from wikipedia.\n",
    "### Therefore we have to use other libraries such as \"pdfreader\" in the following:"
   ]
  },
  {
   "cell_type": "markdown",
   "metadata": {},
   "source": [
    "# Reading a pdf file using the package \"pdfreader\""
   ]
  },
  {
   "cell_type": "code",
   "execution_count": 12,
   "metadata": {},
   "outputs": [],
   "source": [
    "import pdfreader\n",
    "from pdfreader import PDFDocument, SimplePDFViewer"
   ]
  },
  {
   "cell_type": "code",
   "execution_count": 13,
   "metadata": {},
   "outputs": [],
   "source": [
    "fd = open(\"nlp0.pdf\", \"rb\") # nlp0.pdf is a wikipedia article about natural language processing\n",
    "doc = PDFDocument(fd) # making a PDFDocument stance"
   ]
  },
  {
   "cell_type": "code",
   "execution_count": 14,
   "metadata": {},
   "outputs": [
    {
     "name": "stdout",
     "output_type": "stream",
     "text": [
      "version =  1.4\n"
     ]
    }
   ],
   "source": [
    "print(\"version = \", doc.header.version)"
   ]
  },
  {
   "cell_type": "markdown",
   "metadata": {},
   "source": [
    "### Catalog or Document root"
   ]
  },
  {
   "cell_type": "code",
   "execution_count": 15,
   "metadata": {},
   "outputs": [
    {
     "name": "stdout",
     "output_type": "stream",
     "text": [
      "type =  Catalog\n"
     ]
    }
   ],
   "source": [
    "print(\"type = \", doc.root.Type)\n",
    "# print(\"metadata = \", doc.root.Metadata.Subtype) # It is not generally available for every document\n",
    "# print(\"title = \", doc.root.Outlines.First['Title']) # It is not generally available for every document\n",
    "# for a list of page attributes in a pdf file, see PDF-<version> specifications.  "
   ]
  },
  {
   "cell_type": "markdown",
   "metadata": {},
   "source": [
    "## Various pages of a pdf document"
   ]
  },
  {
   "cell_type": "code",
   "execution_count": 16,
   "metadata": {},
   "outputs": [
    {
     "name": "stdout",
     "output_type": "stream",
     "text": [
      "number of pages =  11\n"
     ]
    }
   ],
   "source": [
    "all_pages = [p for p in doc.pages()]\n",
    "print(\"number of pages = \", len(all_pages))"
   ]
  },
  {
   "cell_type": "code",
   "execution_count": 18,
   "metadata": {},
   "outputs": [
    {
     "name": "stdout",
     "output_type": "stream",
     "text": [
      "=============================  Page 0  ==============================\n",
      " An automated online assistantproviding customer service on aweb page, an example of anapplication where naturallanguage processing is a majorcomponent.[1]Natural language processingNatural language processing (NLP) is a subfield of linguistics, computerscience, and artificial intelligence concerned with the interactions betweencomputers and human language, in particular how to program computers toprocess and analyze large amounts of natural language data. The result is acomputer capable of ‘understanding’ the contents of documents, including thecontextual nuances of the language within them. The technology can thenaccurately extract information and insights contained in the documents as well ascategorize and organize the documents themselves.Challenges in natural language processing frequently involve speech recognition,natural language understanding, and natural-language generation.HistorySymbolic NLP (1950s - early 1990s)Statistical NLP (1990s - 2010s)Neural NLP (present)Methods: Rules, statistics, neural networksStatistical methodsNeural networksCommon NLP TasksText and speech processingMorphological analysisSyntactic analysisLexical semantics (of individual words in context)Relational semantics (semantics of individual sentences)Discourse (semantics beyond individual sentences)Higher-level NLP applicationsCognition and NLPSee alsoReferencesFurther readingNatural language processing has its roots in the 1950s. Already in 1950, Alan Turing published an article titled\"Computing Machinery and Intelligence\" which proposed what is now called the Turing test as a criterion ofintelligence, a task that involves the automated interpretation and generation of natural language, but at the time notarticulated as a problem separate from artificial intelligence.ContentsHistorySymbolic NLP (1950s - early 1990s)\n",
      "=============================  Page 1  ==============================\n",
      " The premise of symbolic NLP is well-summarized by John Searle's Chinese room experiment: Given a collection ofrules (e.g., a Chinese phrasebook, with questions and matching answers), the computer emulates natural languageunderstanding (or other NLP tasks) by applying those rules to the data it is confronted with.1950s: The Georgetown experiment in 1954 involved fully automatic translation of more than sixtyRussian sentences into English. The authors claimed that within three or five years, machinetranslation would be a solved problem.[2] However, real progress was much slower, and after theALPAC report in 1966, which found that ten-year-long research had failed to fulfill the expectations,funding for machine translation was dramatically reduced. Little further research in machine translationwas conducted until the late 1980s when the first statistical machine translation systems weredeveloped.1960s: Some notably successful natural language processing systems developed in the 1960s wereSHRDLU, a natural language system working in restricted \"blocks worlds\" with restricted vocabularies,and ELIZA, a simulation of a Rogerian psychotherapist, written by Joseph Weizenbaum between 1964and 1966. Using almost no information about human thought or emotion, ELIZA sometimes provided astartlingly human-like interaction. When the \"patient\" exceeded the very small knowledge base, ELIZAmight provide a generic response, for example, responding to \"My head hurts\" with \"Why do you sayyour head hurts?\".1970s: During the 1970s, many programmers began to write \"conceptual ontologies\", which structuredreal-world information into computer-understandable data. Examples are MARGIE (Schank, 1975),SAM (Cullingford, 1978), PAM (Wilensky, 1978), TaleSpin (Meehan, 1976), QUALM (Lehnert, 1977),Politics (Carbonell, 1979), and Plot Units (Lehnert 1981). During this time, the first many chatterbotswere written (e.g., PARRY).1980s: The 1980s and early 1990s mark the hey-day of symbolic methods in NLP. Focus areas of thetime included research on rule-based parsing (e.g., the development of HPSG as a computationaloperationalization of generative grammar), morphology (e.g., two-level morphology[3]), semantics (e.g.,Lesk algorithm), reference (e.g., within Centering Theory[4]) and other areas of natural languageunderstanding (e.g., in the Rhetorical Structure Theory). Other lines of research were continued, e.g.,the development of chatterbots with Racter and Jabberwacky. An important development (thateventually led to the statistical turn in the 1990s) was the rising importance of quantitative evaluation inthis period.[5]Up to the 1980s, most natural language processing systems were based on complex sets of hand-written rules. Startingin the late 1980s, however, there was a revolution in natural language processing with the introduction of machinelearning algorithms for language processing. This was due to both the steady increase in computational power (seeMoore's law) and the gradual lessening of the dominance of Chomskyan theories of linguistics (e.g. transformationalgrammar), whose theoretical underpinnings discouraged the sort of corpus linguistics that underlies the machine-learning approach to language processing.[6]1990s: Many of the notable early successes on statistical methods in NLP occurred in the field ofmachine translation, due especially to work at IBM Research. These systems were able to takeadvantage of existing multilingual textual corpora that had been produced by the Parliament ofCanada and the European Union as a result of laws calling for the translation of all governmentalproceedings into all official languages of the corresponding systems of government. However, mostother systems depended on corpora specifically developed for the tasks implemented by thesesystems, which was (and often continues to be) a major limitation in the success of these systems. Asa result, a great deal of research has gone into methods of more effectively learning from limitedamounts of data.2000s: With the growth of the web, increasing amounts of raw (unannotated) language data hasbecome available since the mid-1990s. Research has thus increasingly focused on unsupervised andsemi-supervised learning algorithms. Such algorithms can learn from data that has not been hand-annotated with the desired answers or using a combination of annotated and non-annotated data.Generally, this task is much more difficult than supervised learning, and typically produces lessaccurate results for a given amount of input data. However, there is an enormous amount of non-Statistical NLP (1990s - 2010s)\n",
      "=============================  Page 2  ==============================\n",
      " annotated data available (including, among other things, the entire content of the World Wide Web),which can often make up for the inferior results if the algorithm used has a low enough time complexityto be practical.In the 2010s, representation learning and deep neural network-style machine learning methods became widespread innatural language processing, due in part to a flurry of results showing that such techniques[7][8] can achieve state-of-the-art results in many natural language tasks, for example in language modeling,[9] parsing,[10][11] and many others.In the early days, many language-processing systems were designed by symbolic methods, i.e., the hand-coding of aset of rules, coupled with a dictionary lookup:[12][13] such as by writing grammars or devising heuristic rules forstemming.More recent systems based on machine-learning algorithms have many advantages over hand-produced rules:The learning procedures used during machine learning automatically focus on the most commoncases, whereas when writing rules by hand it is often not at all obvious where the effort should bedirected.Automatic learning procedures can make use of statistical inference algorithms to produce models thatare robust to unfamiliar input (e.g. containing words or structures that have not been seen before) andto erroneous input (e.g. with misspelled words or words accidentally omitted). Generally, handling suchinput gracefully with handwritten rules, or, more generally, creating systems of handwritten rules thatmake soft decisions, is extremely difficult, error-prone and time-consuming.Systems based on automatically learning the rules can be made more accurate simply by supplyingmore input data. However, systems based on handwritten rules can only be made more accurate byincreasing the complexity of the rules, which is a much more difficult task. In particular, there is a limitto the complexity of systems based on handwritten rules, beyond which the systems become more andmore unmanageable. However, creating more data to input to machine-learning systems simplyrequires a corresponding increase in the number of man-hours worked, generally without significantincreases in the complexity of the annotation process.Despite the popularity of machine learning in NLP research, symbolic methods are still (2020) commonly usedwhen the amount of training data is insufficient to successfully apply machine learning methods, e.g.,for the machine translation of low-resource languages such as provided by the Apertium system,for preprocessing in NLP pipelines, e.g., tokenization, orfor postprocessing and transforming the output of NLP pipelines, e.g., for knowledge extraction fromsyntactic parses.Since the so-called \"statistical revolution\"[14][15] in the late 1980s and mid-1990s, much natural language processingresearch has relied heavily on machine learning. The machine-learning paradigm calls instead for using statisticalinference to automatically learn such rules through the analysis of large corpora (the plural form of corpus, is a set ofdocuments, possibly with human or computer annotations) of typical real-world examples.Many different classes of machine-learning algorithms have been applied to natural-language-processing tasks. Thesealgorithms take as input a large set of \"features\" that are generated from the input data. Increasingly, however, researchhas focused on statistical models, which make soft, probabilistic decisions based on attaching real-valued weights toNeural NLP (present)Methods: Rules, statistics, neural networksStatistical methods\n"
     ]
    },
    {
     "name": "stdout",
     "output_type": "stream",
     "text": [
      "=============================  Page 3  ==============================\n",
      " each input feature. Such models have the advantage that they can express the relative certainty of many differentpossible answers rather than only one, producing more reliable results when such a model is included as a componentof a larger system.Some of the earliest-used machine learning algorithms, such as decision trees, produced systems of hard if-then rulessimilar to existing hand-written rules. However, part-of-speech tagging introduced the use of hidden Markov models tonatural language processing, and increasingly, research has focused on statistical models, which make soft,probabilistic decisions based on attaching real-valued weights to the features making up the input data. The cachelanguage models upon which many speech recognition systems now rely are examples of such statistical models. Suchmodels are generally more robust when given unfamiliar input, especially input that contains errors (as is very commonfor real-world data), and produce more reliable results when integrated into a larger system comprising multiplesubtasks.Since the neural turn, statistical methods in NLP research have been largely replaced by neural networks. However,they continue to be relevant for contexts in which statistical interpretability and transparency is required.A major drawback of statistical methods is that they require elaborate feature engineering. Since the early 2010s,[16]the field has thus largely abandoned statistical methods and shifted to neural networks for machine learning. Populartechniques include the use of word embeddings to capture semantic properties of words, and an increase in end-to-endlearning of a higher-level task (e.g., question answering) instead of relying on a pipeline of separate intermediate tasks(e.g., part-of-speech tagging and dependency parsing). In some areas, this shift has entailed substantial changes in howNLP systems are designed, such that deep neural network-based approaches may be viewed as a new paradigmdistinct from statistical natural language processing. For instance, the term neural machine translation (NMT)emphasizes the fact that deep learning-based approaches to machine translation directly learn sequence-to-sequencetransformations, obviating the need for intermediate steps such as word alignment and language modeling that wasused in statistical machine translation (SMT).The following is a list of some of the most commonly researched tasks in natural language processing. Some of thesetasks have direct real-world applications, while others more commonly serve as subtasks that are used to aid in solvinglarger tasks.Though natural language processing tasks are closely intertwined, they can be subdivided into categories forconvenience. A coarse division is given below.Optical character recognition (OCR)Given an image representing printed text, determine the corresponding text.Speech recognitionGiven a sound clip of a person or people speaking, determine the textual representation of thespeech. This is the opposite of text to speech and is one of the extremely difficult problemscolloquially termed \"AI-complete\" (see above). In natural speech there are hardly any pausesbetween successive words, and thus speech segmentation is a necessary subtask of speechrecognition (see below). In most spoken languages, the sounds representing successive lettersblend into each other in a process termed coarticulation, so the conversion of the analog signal todiscrete characters can be a very difficult process. Also, given that words in the same language arespoken by people with different accents, the speech recognition software must be able to recognizethe wide variety of input as being identical to each other in terms of its textual equivalent.Speech segmentationNeural networksCommon NLP TasksText and speech processing\n",
      "=============================  Page 4  ==============================\n",
      " Given a sound clip of a person or people speaking, separate it into words. A subtask of speechrecognition and typically grouped with it.Text-to-speechGiven a text, transform those units and produce a spoken representation. Text-to-speech can beused to aid the visually impaired.[17]Word segmentation (Tokenization)Separate a chunk of continuous text into separate words. For a language like English, this is fairlytrivial, since words are usually separated by spaces. However, some written languages like Chinese,Japanese and Thai do not mark word boundaries in such a fashion, and in those languages textsegmentation is a significant task requiring knowledge of the vocabulary and morphology of words inthe language. Sometimes this process is also used in cases like bag of words (BOW) creation indata mining.LemmatizationThe task of removing inflectional endings only and to return the base dictionary form of a word whichis also known as a lemma.Morphological segmentationSeparate words into individual morphemes and identify the class of the morphemes. The difficulty ofthis task depends greatly on the complexity of the morphology (i.e., the structure of words) of thelanguage being considered. English has fairly simple morphology, especially inflectionalmorphology, and thus it is often possible to ignore this task entirely and simply model all possibleforms of a word (e.g., \"open, opens, opened, opening\") as separate words. In languages such asTurkish or Meitei,[18] a highly agglutinated Indian language, however, such an approach is notpossible, as each dictionary entry has thousands of possible word forms.Part-of-speech taggingGiven a sentence, determine the part of speech (POS) for each word. Many words, especiallycommon ones, can serve as multiple parts of speech. For example, \"book\" can be a noun (\"the bookon the table\") or verb (\"to book a flight\"); \"set\" can be a noun, verb or adjective; and \"out\" can be anyof at least five different parts of speech. Some languages have more such ambiguity than others.Languages with little inflectional morphology, such as English, are particularly prone to suchambiguity. Chinese is prone to such ambiguity because it is a tonal language during verbalization.Such inflection is not readily conveyed via the entities employed within the orthography to conveythe intended meaning.StemmingThe process of reducing inflected (or sometimes derived) words to their root form. (e.g., \"close\" willbe the root for \"closed\", \"closing\", \"close\", \"closer\" etc.).Grammar induction[19]Generate a formal grammar that describes a language's syntax.Sentence breaking (also known as \"sentence boundary disambiguation\")Given a chunk of text, find the sentence boundaries. Sentence boundaries are often marked byperiods or other punctuation marks, but these same characters can serve other purposes (e.g.,marking abbreviations).ParsingDetermine the parse tree (grammatical analysis) of a given sentence. The grammar for naturallanguages is ambiguous and typical sentences have multiple possible analyses: perhapssurprisingly, for a typical sentence there may be thousands of potential parses (most of which willseem completely nonsensical to a human). There are two primary types of parsing: dependencyparsing and constituency parsing. Dependency parsing focuses on the relationships between wordsin a sentence (marking things like primary objects and predicates), whereas constituency parsingMorphological analysisSyntactic analysis\n",
      "=============================  Page 5  ==============================\n",
      " focuses on building out the parse tree using a probabilistic context-free grammar (PCFG) (see alsostochastic grammar).Lexical semanticsWhat is the computational meaning of individual words in context?Distributional semanticsHow can we learn semantic representations from data?Named entity recognition (NER)Given a stream of text, determine which items in the text map to proper names, such as people orplaces, and what the type of each such name is (e.g. person, location, organization). Althoughcapitalization can aid in recognizing named entities in languages such as English, this informationcannot aid in determining the type of named entity, and in any case, is often inaccurate or insufficient.For example, the first letter of a sentence is also capitalized, and named entities often span severalwords, only some of which are capitalized. Furthermore, many other languages in non-Westernscripts (e.g. Chinese or Arabic) do not have any capitalization at all, and even languages withcapitalization may not consistently use it to distinguish names. For example, German capitalizes allnouns, regardless of whether they are names, and French and Spanish do not capitalize names thatserve as adjectives.Sentiment analysis (see also multimodal sentiment analysis)Extract subjective information usually from a set of documents, often using online reviews todetermine \"polarity\" about specific objects. It is especially useful for identifying trends of publicopinion in social media, for marketing.Terminology extractionThe goal of terminology extraction is to automatically extract relevant terms from a given corpus.Word sense disambiguationMany words have more than one meaning; we have to select the meaning which makes the mostsense in context. For this problem, we are typically given a list of words and associated wordsenses, e.g. from a dictionary or an online resource such as WordNet.Relationship extractionGiven a chunk of text, identify the relationships among named entities (e.g. who is married to whom).Semantic ParsingGiven a piece of text (typically a sentence), produce a formal representation of its semantics, eitheras a graph (e.g., in AMR parsing) or in accordance with a logical formalism (e.g., in DRT parsing).This challenge typically includes aspects of several more elementary NLP tasks from semantics(e.g., semantic role labelling, word sense disambiguation) and can be extended to include full-fledged discourse analysis (e.g., discourse analysis, coreference; see Natural LanguageUnderstanding below).Semantic Role Labelling (see also implicit semantic role labelling below)Given a single sentence, identify and disambiguate semantic predicates (e.g., verbal frames), thenidentify and classify the frame elements (semantic roles).Coreference resolutionGiven a sentence or larger chunk of text, determine which words (\"mentions\") refer to the sameobjects (\"entities\"). Anaphora resolution is a specific example of this task, and is specificallyconcerned with matching up pronouns with the nouns or names to which they refer. The moregeneral task of coreference resolution also includes identifying so-called \"bridging relationships\"involving referring expressions. For example, in a sentence such as \"He entered John's houseLexical semantics (of individual words in context)Relational semantics (semantics of individual sentences)Discourse (semantics beyond individual sentences)\n"
     ]
    },
    {
     "name": "stdout",
     "output_type": "stream",
     "text": [
      "=============================  Page 6  ==============================\n",
      " through the front door\", \"the front door\" is a referring expression and the bridging relationship to beidentified is the fact that the door being referred to is the front door of John's house (rather than ofsome other structure that might also be referred to).Discourse analysisThis rubric includes several related tasks. One task is discourse parsing, i.e., identifying thediscourse structure of a connected text, i.e. the nature of the discourse relationships betweensentences (e.g. elaboration, explanation, contrast). Another possible task is recognizing andclassifying the speech acts in a chunk of text (e.g. yes-no question, content question, statement,assertion, etc.).Implicit Semantic Role LabellingGiven a single sentence, identify and disambiguate semantic predicates (e.g., verbal frames) andtheir explicit semantic roles in the current sentence (see Semantic Role Labelling above). Then,identify semantic roles that are not explicitly realized in the current sentence, classify them intoarguments that are explicitly realized elsewhere in the text and those that are not specified, andresolve the former against the local text. A closely related task is zero anaphora resolution, i.e., theextension of coreference resolution to pro-drop languages.Recognizing Textual entailmentGiven two text fragments, determine if one being true entails the other, entails the other's negation, orallows the other to be either true or false.[20]Topic segmentation and recognitionGiven a chunk of text, separate it into segments each of which is devoted to a topic, and identify thetopic of the segment.Automatic summarization (text summarization)Produce a readable summary of a chunk of text. Often used to provide summaries of the text of aknown type, such as research papers, articles in the financial section of a newspaper.Book generationNot an NLP task proper but an extension of Natural Language Generation and other NLP tasks is thecreation of full-fledged books. The first machine-generated book was created by a rule-based systemin 1984 (Racter, The policeman's beard is half-constructed).[21] The first published work by a neuralnetwork was published in 2018, 1 the Road, marketed as a novel, contains sixty million words. Boththese systems are basically elaborate but non-sensical (semantics-free) language models. The firstmachine-generated science book was published in 2019 (Beta Writer, Lithium-Ion Batteries,Springer, Cham).[22] Unlike Racter and 1 the Road, this is grounded on factual knowledge andbased on text summarization.Dialogue managementComputer systems intended to converse with a human.Document AIA Document AI platform sits on top of the NLP technology enabling users with no prior experience ofartificial intelligence, machine learning or NLP to quickly train a computer to extract the specific datathey need from different document types. NLP-powered Document AI enables non-technical teamsto quickly access information hidden in documents, for example, lawyers, business analysts andaccountants.Machine translationAutomatically translate text from one human language to another. This is one of the most difficultproblems, and is a member of a class of problems colloquially termed \"AI-complete\", i.e. requiring allof the different types of knowledge that humans possess (grammar, semantics, facts about the realworld, etc.) to solve properly.Natural language generation (NLG):Convert information from computer databases or semantic intents into readable human language.Natural language understanding (NLU)Convert chunks of text into more formal representations such as first-order logic structures that areeasier for computer programs to manipulate. Natural language understanding involves theHigher-level NLP applications\n",
      "=============================  Page 7  ==============================\n",
      " identification of the intended semantic from the multiple possible semantics which can be derivedfrom a natural language expression which usually takes the form of organized notations of naturallanguage concepts. Introduction and creation of language metamodel and ontology are efficienthowever empirical solutions. An explicit formalization of natural language semantics withoutconfusions with implicit assumptions such as closed-world assumption (CWA) vs. open-worldassumption, or subjective Yes/No vs. objective True/False is expected for the construction of a basisof semantics formalization.[23]Question answeringGiven a human-language question, determine its answer. Typical questions have a specific rightanswer (such as \"What is the capital of Canada?\"), but sometimes open-ended questions are alsoconsidered (such as \"What is the meaning of life?\"). Recent works have looked at even morecomplex questions.[24]Cognition refers to \"the mental action or process of acquiring knowledge and understanding through thought,experience, and the senses.\"[25] Cognitive science is the interdisciplinary, scientific study of the mind and itsprocesses.[26] Cognitive linguistics is an interdisciplinary branch of linguistics, combining knowledge and researchfrom both psychology and linguistics.[27] George Lakoff offers a methodology to build Natural language processing(NLP) algorithms through the perspective of Cognitive science, along with the findings of Cognitive linguistics:[28]The first defining aspect of this cognitive task of NLP is the application of the theory of Conceptual metaphor,explained by Lakoff as “the understanding of one idea, in terms of another” which provides an idea of the intent of theauthor.[29]For example, consider some of the meanings, in English, of the word “big”. When used as a Comparative, as in “Thatis a big tree,” a likely inference of the intent of the author is that the author is using the word “big” to imply astatement about the tree being ”physically large” in comparison to other trees or the authors experience. When used asa Stative verb, as in ”Tomorrow is a big day”, a likely inference of the author’s intent it that ”big” is being used toimply ”importance”. These examples are not presented to be complete, but merely as indicators of the implication ofthe idea of Conceptual metaphor. The intent behind other usages, like in ”She is a big person” will remain somewhatambiguous to a person and a cognitive NLP algorithm alike without additional information.This leads to the second defining aspect of this cognitive task of NLP, namely Probabilistic context-free grammar(PCFG) which enables cognitive NLP algorithms to assign relative measures of meaning to a word, phrase, sentenceor piece of text based on the information presented before and after the piece of text being analyzed. The mathematicalequation for such algorithms is presented in US patent 9269353 (https://worldwide.espacenet.com/textdoc?DB=EPODOC&IDX=US9269353):Where,      RMM, is the Relative Measure of Meaning      token, is any block of text, sentence, phrase or word      N, is the number of tokens being analyzed      PMM, is the Probable Measure of Meaning based on a corpora      d, is the location of the token along the sequence of N-1 tokens      PF, is the Probability Function specific to a language1 the RoadAutomated essay scoringBiomedical text miningCompound term processingComputational linguisticsComputer-assisted reviewingCognition and NLPSee also\n",
      "=============================  Page 8  ==============================\n",
      " Controlled natural languageDeep learningDeep linguistic processingDistributional semanticsForeign language reading aidForeign language writing aidInformation extractionInformation retrievalLanguage and Communication TechnologiesLanguage technologyLatent semantic indexingNative-language identificationNatural language programmingNatural language searchOutline of natural language processingQuery expansionQuery understandingReification (linguistics)Speech processingSpoken dialogue systemText-proofingText simplificationTransformer (machine learning model)TruecasingQuestion answeringWord2vec1. Kongthon, Alisa; Sangkeettrakarn, Chatchawal; Kongyoung, Sarawoot; Haruechaiyasak, Choochart(October 27–30, 2009). Implementing an online help desk system based on conversational agent.MEDES '09: The International Conference on Management of Emergent Digital EcoSystems. France:ACM. doi:10.1145/1643823.1643908 (https://doi.org/10.1145%2F1643823.1643908).2. Hutchins, J. (2005). \"The history of machine translation in a nutshell\" (http://www.hutchinsweb.me.uk/Nutshell-2005.pdf) (PDF).3. Koskenniemi, Kimmo (1983), Two-level morphology: A general computational model of word-formrecognition and production (http://www.ling.helsinki.fi/~koskenni/doc/Two-LevelMorphology.pdf) (PDF),Department of General Linguistics, University of Helsinki4. Joshi, A. K., & Weinstein, S. (1981, August). Control of Inference: Role of Some Aspects of DiscourseStructure-Centering (https://www.ijcai.org/Proceedings/81-1/Papers/071.pdf). In IJCAI (pp. 385-387).5. Guida, G.; Mauri, G. (July 1986). \"Evaluation of natural language processing systems: Issues andapproaches\". Proceedings of the IEEE. 74 (7): 1026–1035. doi:10.1109/PROC.1986.13580 (https://doi.org/10.1109%2FPROC.1986.13580). ISSN 1558-2256 (https://www.worldcat.org/issn/1558-2256).S2CID 30688575 (https://api.semanticscholar.org/CorpusID:30688575).6. Chomskyan linguistics encourages the investigation of \"corner cases\" that stress the limits of itstheoretical models (comparable to pathological phenomena in mathematics), typically created usingthought experiments, rather than the systematic investigation of typical phenomena that occur in real-world data, as is the case in corpus linguistics. The creation and use of such corpora of real-world datais a fundamental part of machine-learning algorithms for natural language processing. In addition,theoretical underpinnings of Chomskyan linguistics such as the so-called \"poverty of the stimulus\"argument entail that general learning algorithms, as are typically used in machine learning, cannot besuccessful in language processing. As a result, the Chomskyan paradigm discouraged the applicationof such models to language processing.7. Goldberg, Yoav (2016). \"A Primer on Neural Network Models for Natural Language Processing\".Journal of Artificial Intelligence Research. 57: 345–420. arXiv:1807.10854 (https://arxiv.org/abs/1807.10854). doi:10.1613/jair.4992 (https://doi.org/10.1613%2Fjair.4992). S2CID 8273530 (https://api.semanticscholar.org/CorpusID:8273530).8. Goodfellow, Ian; Bengio, Yoshua; Courville, Aaron (2016). Deep Learning (http://www.deeplearningbook.org/). MIT Press.9. Jozefowicz, Rafal; Vinyals, Oriol; Schuster, Mike; Shazeer, Noam; Wu, Yonghui (2016). Exploring theLimits of Language Modeling. arXiv:1602.02410 (https://arxiv.org/abs/1602.02410).Bibcode:2016arXiv160202410J (https://ui.adsabs.harvard.edu/abs/2016arXiv160202410J).10. Choe, Do Kook; Charniak, Eugene. \"Parsing as Language Modeling\" (https://aclanthology.coli.uni-saarland.de/papers/D16-1257/d16-1257). Emnlp 2016.11. Vinyals, Oriol; et al. (2014). \"Grammar as a Foreign Language\" (https://papers.nips.cc/paper/5635-grammar-as-a-foreign-language.pdf) (PDF). Nips2015. arXiv:1412.7449 (https://arxiv.org/abs/1412.7449).Bibcode:2014arXiv1412.7449V (https://ui.adsabs.harvard.edu/abs/2014arXiv1412.7449V).References\n"
     ]
    },
    {
     "name": "stdout",
     "output_type": "stream",
     "text": [
      "=============================  Page 9  ==============================\n",
      " 12. Winograd, Terry (1971). Procedures as a Representation for Data in a Computer Program forUnderstanding Natural Language (http://hci.stanford.edu/winograd/shrdlu/) (Thesis).13. Schank, Roger C.; Abelson, Robert P. (1977). Scripts, Plans, Goals, and Understanding: An InquiryInto Human Knowledge Structures. Hillsdale: Erlbaum. ISBN 0-470-99033-3.14. Mark Johnson. How the statistical revolution changes (computational) linguistics. (http://www.aclweb.org/anthology/W09-0103) Proceedings of the EACL 2009 Workshop on the Interaction betweenLinguistics and Computational Linguistics.15. Philip Resnik. Four revolutions. (http://languagelog.ldc.upenn.edu/nll/?p=2946) Language Log,February 5, 2011.16. Socher, Richard. \"Deep Learning For NLP-ACL 2012 Tutorial\" (https://www.socher.org/index.php/Main/DeepLearningForNLP-ACL2012Tutorial). www.socher.org. Retrieved 2020-08-17. This was an earlyDeep Learning tutorial at the ACL 2012 and met with both interest and (at the time) skepticism by mostparticipants. Until then, neural learning was basically rejected because of its lack of statisticalinterpretability. Until 2015, deep learning had evolved into the major framework of NLP.17. Yi, Chucai; Tian, Yingli (2012), \"Assistive Text Reading from Complex Background for Blind Persons\",Camera-Based Document Analysis and Recognition, Springer Berlin Heidelberg, pp. 15–28,CiteSeerX 10.1.1.668.869 (https://citeseerx.ist.psu.edu/viewdoc/summary?doi=10.1.1.668.869),doi:10.1007/978-3-642-29364-1_2 (https://doi.org/10.1007%2F978-3-642-29364-1_2),ISBN 978364229363418. Kishorjit, N.; Vidya, Raj RK.; Nirmal, Y.; Sivaji, B. (2012). \"Manipuri Morpheme Identification\" (http://aclweb.org/anthology//W/W12/W12-5008.pdf) (PDF). Proceedings of the 3rd Workshop on South andSoutheast Asian Natural Language Processing (SANLP). COLING 2012, Mumbai, December 2012:95–108.19. Klein, Dan; Manning, Christopher D. (2002). \"Natural language grammar induction using a constituent-context model\" (http://papers.nips.cc/paper/1945-natural-language-grammar-induction-using-a-constituent-context-model.pdf) (PDF). Advances in Neural Information Processing Systems.20. PASCAL Recognizing Textual Entailment Challenge (RTE-7) https://tac.nist.gov//2011/RTE/21. \"U B U W E B :: Racter\" (http://www.ubu.com/historical/racter/index.html). www.ubu.com. Retrieved2020-08-17.22. Writer, Beta (2019). Lithium-Ion Batteries. doi:10.1007/978-3-030-16800-1 (https://doi.org/10.1007%2F978-3-030-16800-1). ISBN 978-3-030-16799-8.23. Duan, Yucong; Cruz, Christophe (2011). \"Formalizing Semantic of Natural Language throughConceptualization from Existence\" (https://web.archive.org/web/20111009135952/http://www.ijimt.org/abstract/100-E00187.htm). International Journal of Innovation, Management and Technology. 2 (1):37–42. Archived from the original (http://www.ijimt.org/abstract/100-E00187.htm) on 2011-10-09.24. Mittal (2011). \"Versatile question answering systems: seeing in synthesis\" (https://hal.archives-ouvertes.fr/hal-01104648/file/Mittal_VersatileQA_IJIIDS.pdf) (PDF). International Journal of IntelligentInformation and Database Systems. 5 (2): 119–142. doi:10.1504/IJIIDS.2011.038968 (https://doi.org/10.1504%2FIJIIDS.2011.038968).25. \"Cognition\" (https://www.lexico.com/definition/cognition). Lexico. Oxford University Press andDictionary.com. Retrieved 6 May 2020.26. \"Ask the Cognitive Scientist\" (http://www.aft.org/newspubs/periodicals/ae/summer2002/willingham.cfm). American Federation of Teachers. 8 August 2014. \"Cognitive science is an interdisciplinary field ofresearchers from Linguistics, psychology, neuroscience, philosophy, computer science, andanthropology that seek to understand the mind.\"27. Robinson, Peter (2008). Handbook of Cognitive Linguistics and Second Language Acquisition.Routledge. pp. 3–8. ISBN 978-0-805-85352-0.28. Lakoff, George (1999). Philosophy in the Flesh: The Embodied Mind and Its Challenge to WesternPhilosophy; Appendix: The Neural Theory of Language Paradigm. New York Basic Books. pp. 569–583. ISBN 978-0-465-05674-3.29. Strauss, Claudia (1999). A Cognitive Theory of Cultural Meaning. Cambridge University Press.pp. 156–164. ISBN 978-0-521-59541-4.Further reading\n",
      "=============================  Page 10  ==============================\n",
      " Bates, M (1995). \"Models of natural language understanding\" (https://www.ncbi.nlm.nih.gov/pmc/articles/PMC40721). Proceedings of the National Academy of Sciences of the United States of America. 92(22): 9977–9982. Bibcode:1995PNAS...92.9977B (https://ui.adsabs.harvard.edu/abs/1995PNAS...92.9977B). doi:10.1073/pnas.92.22.9977 (https://doi.org/10.1073%2Fpnas.92.22.9977). PMC 40721 (https://www.ncbi.nlm.nih.gov/pmc/articles/PMC40721). PMID 7479812 (https://pubmed.ncbi.nlm.nih.gov/7479812).Steven Bird, Ewan Klein, and Edward Loper (2009). Natural Language Processing with Python.O'Reilly Media. ISBN 978-0-596-51649-9.Daniel Jurafsky and James H. Martin (2008). Speech and Language Processing, 2nd edition. PearsonPrentice Hall. ISBN 978-0-13-187321-6.Mohamed Zakaria Kurdi (2016). Natural Language Processing and Computational Linguistics:speech, morphology, and syntax, Volume 1. ISTE-Wiley. ISBN 978-1848218482.Mohamed Zakaria Kurdi (2017). Natural Language Processing and Computational Linguistics:semantics, discourse, and applications, Volume 2. ISTE-Wiley. ISBN 978-1848219212.Christopher D. Manning, Prabhakar Raghavan, and Hinrich Schütze (2008). Introduction to InformationRetrieval. Cambridge University Press. ISBN 978-0-521-86571-5. Official html and pdf versionsavailable without charge. (http://nlp.stanford.edu/IR-book/)Christopher D. Manning and Hinrich Schütze (1999). Foundations of Statistical Natural LanguageProcessing. The MIT Press. ISBN 978-0-262-13360-9.David M. W. Powers and Christopher C. R. Turk (1989). Machine Learning of Natural Language.Springer-Verlag. ISBN 978-0-387-19557-5.Retrieved from \"https://en.wikipedia.org/w/index.php?title=Natural_language_processing&oldid=994386688\"This page was last edited on 15 December 2020, at 13:14 (UTC).Text is available under the Creative Commons Attribution-ShareAlike License; additional terms may apply. By using this site, youagree to the Terms of Use and Privacy Policy. Wikipedia® is a registered trademark of the Wikimedia Foundation, Inc., a non-profit organization.\n"
     ]
    }
   ],
   "source": [
    "viewer = SimplePDFViewer(fd)\n",
    "for index, canvas in enumerate(viewer):\n",
    "    page_strings = canvas.strings\n",
    "    text=\"\".join(page_strings)\n",
    "    print(f\"=============================  Page {index}  ==============================\\n\", text)"
   ]
  },
  {
   "cell_type": "code",
   "execution_count": 20,
   "metadata": {},
   "outputs": [],
   "source": [
    "fd.close()"
   ]
  },
  {
   "cell_type": "markdown",
   "metadata": {},
   "source": [
    "#### This library has the same problem as the former, as it attaches the end of each line to the beginning of the next line.\n",
    "# For more information about \"pdfreader\" visit:\n",
    "https://pdfreader.readthedocs.io/en/latest/tutorial.html"
   ]
  },
  {
   "cell_type": "code",
   "execution_count": null,
   "metadata": {},
   "outputs": [],
   "source": []
  }
 ],
 "metadata": {
  "kernelspec": {
   "display_name": "Python 3",
   "language": "python",
   "name": "python3"
  },
  "language_info": {
   "codemirror_mode": {
    "name": "ipython",
    "version": 3
   },
   "file_extension": ".py",
   "mimetype": "text/x-python",
   "name": "python",
   "nbconvert_exporter": "python",
   "pygments_lexer": "ipython3",
   "version": "3.8.3"
  }
 },
 "nbformat": 4,
 "nbformat_minor": 4
}
