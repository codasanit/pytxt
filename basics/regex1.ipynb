{
 "cells": [
  {
   "cell_type": "markdown",
   "metadata": {},
   "source": [
    "# Regular Expressions\n",
    "In this code we review some basic regular expression techniques to explore a text. \n",
    "## Functions: match, search, findall and finditer"
   ]
  },
  {
   "cell_type": "code",
   "execution_count": 2,
   "metadata": {},
   "outputs": [],
   "source": [
    "import re # This library needed for using regular expression"
   ]
  },
  {
   "cell_type": "code",
   "execution_count": 3,
   "metadata": {},
   "outputs": [],
   "source": [
    "txt1 = \"When the fox saw the ox is breathing all the oxygen decided to sleep in the box.\"\n",
    "txt2 = \"oxygen is necessary matter for all animals inclding foxes and oxes, but boxes don't need oxygen.\"\n",
    "pattern = \"ox\""
   ]
  },
  {
   "cell_type": "markdown",
   "metadata": {},
   "source": [
    "### Function \"match\" returns the match object of the pattern if it appears at the beggining of the string. Otherwise it retuurns None."
   ]
  },
  {
   "cell_type": "code",
   "execution_count": 4,
   "metadata": {},
   "outputs": [
    {
     "name": "stdout",
     "output_type": "stream",
     "text": [
      "<re.Match object; span=(0, 2), match='ox'>\n",
      "(0, 2)\n",
      "0\n",
      "2\n"
     ]
    }
   ],
   "source": [
    "mat0 = re.match(pattern, txt2) \n",
    "print(mat0)\n",
    "if mat0 != None:\n",
    "    print(mat0.span())\n",
    "    print(mat0.start())\n",
    "    print(mat0.end())\n",
    "# span(), start() and end() are attributes of a match object."
   ]
  },
  {
   "cell_type": "code",
   "execution_count": 5,
   "metadata": {},
   "outputs": [
    {
     "name": "stdout",
     "output_type": "stream",
     "text": [
      "None\n"
     ]
    }
   ],
   "source": [
    "mat1 = re.match(pattern,txt1)\n",
    "print(mat1)"
   ]
  },
  {
   "cell_type": "markdown",
   "metadata": {},
   "source": [
    "### Function \"search\" finds the first match object of the pattern inside the text as an object with certain attribiutes."
   ]
  },
  {
   "cell_type": "code",
   "execution_count": 6,
   "metadata": {},
   "outputs": [
    {
     "name": "stdout",
     "output_type": "stream",
     "text": [
      "<re.Match object; span=(10, 12), match='ox'>\n"
     ]
    }
   ],
   "source": [
    "mat2 = re.search(pattern, txt1) \n",
    "print(mat2)"
   ]
  },
  {
   "cell_type": "markdown",
   "metadata": {},
   "source": [
    "## Function \"findall\" finds and returns a list of all occurrences \n",
    "No object here!"
   ]
  },
  {
   "cell_type": "code",
   "execution_count": 7,
   "metadata": {},
   "outputs": [
    {
     "name": "stdout",
     "output_type": "stream",
     "text": [
      "mat3 =  ['ox', 'ox', 'ox', 'ox']\n"
     ]
    }
   ],
   "source": [
    "mat3 = re.findall(pattern, txt1)\n",
    "print(\"mat3 = \", mat3)"
   ]
  },
  {
   "cell_type": "markdown",
   "metadata": {},
   "source": [
    "## Function \"finditer\" finds and retruns an iterator object of all occurrences as match objects"
   ]
  },
  {
   "cell_type": "code",
   "execution_count": 8,
   "metadata": {},
   "outputs": [
    {
     "name": "stdout",
     "output_type": "stream",
     "text": [
      "mat4 =  <callable_iterator object at 0x0000022A43F19220>\n",
      "TEXT =  When the fox saw the ox is breathing all the oxygen decided to sleep in the box.\n",
      "=================== iterating through mat4  ========================\n",
      "The  0 -th match =  <re.Match object; span=(10, 12), match='ox'>\n",
      "The span, start and end of the 0-th match are (10, 12), 10 and 12 \n",
      "\n",
      "The  1 -th match =  <re.Match object; span=(21, 23), match='ox'>\n",
      "The span, start and end of the 1-th match are (21, 23), 21 and 23 \n",
      "\n",
      "The  2 -th match =  <re.Match object; span=(45, 47), match='ox'>\n",
      "The span, start and end of the 2-th match are (45, 47), 45 and 47 \n",
      "\n",
      "The  3 -th match =  <re.Match object; span=(77, 79), match='ox'>\n",
      "The span, start and end of the 3-th match are (77, 79), 77 and 79 \n",
      "\n"
     ]
    }
   ],
   "source": [
    "mat4 = re.finditer(pattern, txt1)\n",
    "print(\"mat4 = \", mat4)\n",
    "print(\"TEXT = \", txt1)\n",
    "print(\"=================== iterating through mat4  ========================\")\n",
    "for i, m in enumerate(mat4):\n",
    "    print(\"The \", i, \"-th match = \",m)\n",
    "    print(\"The span, start and end of the {}-th match are {}, {} and {}\".format(i, m.span(), m.start(), m.end()),\"\\n\")"
   ]
  },
  {
   "cell_type": "markdown",
   "metadata": {},
   "source": [
    "# Patterns Containing Identifiers and Quantifiers\n",
    "No we build more sophisticated patterns using \"identifiers\" and \"quantifiers\" "
   ]
  },
  {
   "cell_type": "markdown",
   "metadata": {},
   "source": [
    "## Identifiers:\n",
    "Each one of the following identifiers represents one letter of a specific group of characters, unless imediately comes some quantifire.\n",
    "<table style='font-size:20px;' cellspacing=5, cellpadding=10>\n",
    "    <tr ><th>Identifier</th><th>Description</th><th>Pattern</th><th >Match</th></tr>\n",
    "    <tr ><th>\\d</th><td style=\"width:30%\">Digit</td><td>book_\\d</td><td>book_4</td></tr>\n",
    "    <tr ><th>\\w</th><td>Alphanumeric</td><td>\\w-\\w\\w\\w</td><td>T-c_3</td></tr>\n",
    "    <tr ><th>\\s</th><td>White space</td><td>#\\s-\\sW</td><td># - W</td></tr>\n",
    "    <tr ><th>\\D</th><td>Non-digit</td><td>\\D\\D\\D</td><td>Cat</td></tr>\n",
    "    <tr ><th>\\W</th><td>Non-alphanumeric</td><td>\\W\\W\\W\\W</td><td>{+})</td></tr>\n",
    "    <tr ><th>\\S</th><td>Non-whitespace</td><td>\\S\\S\\S\\S\\S</td><td>#-oP</td></tr>\n",
    "</table>\n",
    "\n",
    "### In order to emphasis that we intend raw character (not scape characters) in the pattern, we use letter 'r' at the beginning of the pattern."
   ]
  },
  {
   "cell_type": "code",
   "execution_count": 9,
   "metadata": {},
   "outputs": [
    {
     "name": "stdout",
     "output_type": "stream",
     "text": [
      "['fox', 'box']\n",
      "<callable_iterator object at 0x0000022A43E57BE0>\n",
      "<callable_iterator object at 0x0000022A43E57BE0>\n"
     ]
    }
   ],
   "source": [
    "pat0 = r\"\\wox\"\n",
    "print(re.findall(pat0, txt1))\n",
    "# both fox and box in txt1 start with some letter and continue with \"ox\"\n",
    "mat5 = re.finditer(pat0, txt1)\n",
    "for m in mat5:\n",
    "    print(mat5)"
   ]
  },
  {
   "cell_type": "markdown",
   "metadata": {},
   "source": [
    "# Identifiers are especially uuseful for detecting phone numbers:"
   ]
  },
  {
   "cell_type": "code",
   "execution_count": 10,
   "metadata": {},
   "outputs": [
    {
     "name": "stdout",
     "output_type": "stream",
     "text": [
      "['555-321-2233', '555-321-3322', '777-902-6720']\n"
     ]
    }
   ],
   "source": [
    "txt3 = \"My phone number is 555-321-2233 and it is very similar to Alex's phone number 555-321-3322. However, Mary's phone number, 777-902-6720, is totally different.\"\n",
    "# Now we want to extract all the phone numbers in the above text!\n",
    "pat1 = r\"\\d\\d\\d-\\d\\d\\d-\\d\\d\\d\\d\"\n",
    "print(re.findall(pat1, txt3))"
   ]
  },
  {
   "cell_type": "markdown",
   "metadata": {},
   "source": [
    "# In similar situations as above, one can use quantifiers to avoid repeating identifiers:\n",
    "\n",
    "<table style='font-size:20px;' cellspacing=5, cellpadding=10>\n",
    "    <tr><th>Quantifier</th><th style=\"width:30%\">Description</th><th>Pattern</th><th >Match</th></tr>\n",
    "    <tr ><th>+</th><td>one or more times</td><td>\\w\\d-\\d+</td><td>A4-3 or s8-342, ...</td></tr>\n",
    "    <tr ><th>{2}</th><td>exactly 2 times</td><td>\\D{2}</td><td>b}</td></tr>\n",
    "    <tr ><th>{2,5}</th><td>between 2 to 5 times</td><td>\\d{2,5}</td><td>1234</td></tr>\n",
    "    <tr ><th>{3,}</th><td>at least 3 times</td><td>\\d{3,}</td><td>243 or 34003, ...</td></tr>\n",
    "    <tr ><th>*</th><td>zero or more times</td><td>A*B*</td><td>AA or B, ...</td></tr>\n",
    "    <tr ><th>?</th><td>at most once</td><td>book\\d?</td><td>book or book3, ...</td></tr>\n",
    "</table>\n",
    "\n",
    "## The following examples show some se cases of these quantifiers:"
   ]
  },
  {
   "cell_type": "code",
   "execution_count": 12,
   "metadata": {},
   "outputs": [
    {
     "name": "stdout",
     "output_type": "stream",
     "text": [
      "['555-321-223', '555-321-332', '777-902-672']\n"
     ]
    }
   ],
   "source": [
    "pat2 = r\"\\d{3}-\\d{3}-\\d{3}\" # This raw string defines the same pattern as pat1 in the above!\n",
    "print(re.findall(pat2, txt3))"
   ]
  },
  {
   "cell_type": "code",
   "execution_count": 14,
   "metadata": {},
   "outputs": [
    {
     "name": "stdout",
     "output_type": "stream",
     "text": [
      "['fox', 'ox', 'oxygen', 'box']\n",
      "['oxygen', 'foxes', 'oxes', 'boxes', 'oxygen']\n"
     ]
    }
   ],
   "source": [
    "# Using the identifiers and quantifiers we can find all words containing the combination \"ox\" in \"txt1\" and \"txt2\".\n",
    "pat3 = r\"\\w{0,}ox\\w{0,}\"\n",
    "print(re.findall(pat3, txt1))\n",
    "print(re.findall(pat3, txt2))"
   ]
  },
  {
   "cell_type": "code",
   "execution_count": 27,
   "metadata": {},
   "outputs": [
    {
     "name": "stdout",
     "output_type": "stream",
     "text": [
      "['x', 'x1', 'x2', 'x4', 'x', 'x', 'x2']\n",
      "['x', 'x1', 'x2', 'x43', 'x', 'x', 'x2']\n",
      "['x1', 'x2', 'x4', '3', '5', '9', '7', 'xxx2']\n",
      "['variables', 'variable']\n"
     ]
    }
   ],
   "source": [
    "txt4 = \"Let's assume that x, x1, x2 and x43 are real variables and f is a function of one variable. 5 97 xxx2 \"\n",
    "pat4 = r\"x\\d?\"\n",
    "print(re.findall(pat4, txt4))\n",
    "pat5 = r\"x\\d*\"\n",
    "print(re.findall(pat5, txt4))\n",
    "pat6 = r\"x*\\d\"\n",
    "print(re.findall(pat6, txt4))\n",
    "pat7 = r\"variables*\"\n",
    "print(re.findall(pat7, txt4))"
   ]
  },
  {
   "cell_type": "code",
   "execution_count": null,
   "metadata": {},
   "outputs": [],
   "source": []
  }
 ],
 "metadata": {
  "kernelspec": {
   "display_name": "Python 3",
   "language": "python",
   "name": "python3"
  },
  "language_info": {
   "codemirror_mode": {
    "name": "ipython",
    "version": 3
   },
   "file_extension": ".py",
   "mimetype": "text/x-python",
   "name": "python",
   "nbconvert_exporter": "python",
   "pygments_lexer": "ipython3",
   "version": "3.8.3"
  }
 },
 "nbformat": 4,
 "nbformat_minor": 4
}
