{
 "cells": [
  {
   "cell_type": "markdown",
   "metadata": {},
   "source": [
    "# Python Text Formatting \n",
    "## or Formatted Strings"
   ]
  },
  {
   "cell_type": "markdown",
   "metadata": {},
   "source": [
    "### The following code demonstrate basic formatting in python:"
   ]
  },
  {
   "cell_type": "code",
   "execution_count": 102,
   "metadata": {},
   "outputs": [
    {
     "name": "stdout",
     "output_type": "stream",
     "text": [
      "My name is Alf and I am 22 years old.\n"
     ]
    }
   ],
   "source": [
    "name = \"Alf\"\n",
    "age = 22\n",
    "print(\"My name is {} and I am {} years old.\".format(name, age))"
   ]
  },
  {
   "cell_type": "markdown",
   "metadata": {},
   "source": [
    "### We can also use the following syntax:"
   ]
  },
  {
   "cell_type": "code",
   "execution_count": 103,
   "metadata": {},
   "outputs": [
    {
     "name": "stdout",
     "output_type": "stream",
     "text": [
      "My name is Alf and I am 22 years old.\n"
     ]
    }
   ],
   "source": [
    "print(f\"My name is {name} and I am {age} years old.\")"
   ]
  },
  {
   "cell_type": "markdown",
   "metadata": {},
   "source": [
    "### The following example shows the problem we may encounter while printing tables of text"
   ]
  },
  {
   "cell_type": "code",
   "execution_count": 104,
   "metadata": {},
   "outputs": [
    {
     "name": "stdout",
     "output_type": "stream",
     "text": [
      "Author Title Number of Pages\n",
      "Twain Rafting 601\n",
      "Richard Feynman Advanced Quantum Mechanics 1595\n",
      "Hamilton Mythology 144\n"
     ]
    }
   ],
   "source": [
    "lib = [('Author', 'Title', 'Number of Pages'), ('Twain', 'Rafting', 601), ('Richard Feynman', 'Advanced Quantum Mechanics', 1595), ('Hamilton', 'Mythology', 144)]\n",
    "\n",
    "for book in lib:\n",
    "    print(f'{book[0]} {book[1]} {book[2]}')"
   ]
  },
  {
   "cell_type": "markdown",
   "metadata": {},
   "source": [
    "## Minimum Widths, Alignment and Padding\n",
    "### We can solve this problem by specifying the width of each cell as follows:"
   ]
  },
  {
   "cell_type": "code",
   "execution_count": 105,
   "metadata": {},
   "outputs": [
    {
     "name": "stdout",
     "output_type": "stream",
     "text": [
      "---------------------------------------------------------------------------------------------- \n",
      "|   Author               |   Title                                    |    Number of Pages \n",
      "---------------------------------------------------------------------------------------------- \n",
      "|   Twain                |   Rafting                                  |           601 \n",
      "---------------------------------------------------------------------------------------------- \n",
      "|   Richard Feynman      |   Advanced Quantum Mechanics               |          1595 \n",
      "---------------------------------------------------------------------------------------------- \n",
      "|   Hamilton             |   Mythology                                |           144 \n",
      "---------------------------------------------------------------------------------------------- \n"
     ]
    }
   ],
   "source": [
    "lib = [('Author', 'Title', 'Number of Pages'), ('Twain', 'Rafting', 601), ('Richard Feynman', 'Advanced Quantum Mechanics', 1595), ('Hamilton', 'Mythology', 144)]\n",
    "\n",
    "print(f\"{' ':->{95}}\")\n",
    "for book in lib:\n",
    "    print(f\"|   {book[0]:{20}} |   {book[1]:{40}} |    {book[2]:{10}} \")\n",
    "    print(f\"{' ':->{95}}\")\n",
    "# We notice the last column of the first row has more than 10 characters.\n",
    "# We also draw border for our table"
   ]
  },
  {
   "cell_type": "code",
   "execution_count": 106,
   "metadata": {},
   "outputs": [
    {
     "name": "stdout",
     "output_type": "stream",
     "text": [
      "Author^^^^^^^^^^^^^^ Title----------------------------------- Number of Pages\n",
      "Twain^^^^^^^^^^^^^^^ Rafting--------------------------------- .......601\n",
      "Richard Feynman^^^^^ Advanced Quantum Mechanics-------------- ......1595\n",
      "Hamilton^^^^^^^^^^^^ Mythology------------------------------- .......144\n"
     ]
    }
   ],
   "source": [
    "# We can also fill the white space of each cell with desired characters\n",
    "for book in lib:\n",
    "    print(f'{book[0]:^<{20}} {book[1]:-<{40}} {book[2]:.>{10}}') # here respectively =<, -< and .> were added"
   ]
  },
  {
   "cell_type": "code",
   "execution_count": 107,
   "metadata": {},
   "outputs": [
    {
     "name": "stdout",
     "output_type": "stream",
     "text": [
      "--------------------------------------------------------------------------------------------- \n",
      "|   Author               |   Title                                    |   Number of Pages   |\n",
      "--------------------------------------------------------------------------------------------- \n",
      "|   Twain                |   Rafting                                  |   601               |\n",
      "--------------------------------------------------------------------------------------------- \n",
      "|   Richard Feynman      |   Advanced Quantum Mechanics               |   1595              |\n",
      "--------------------------------------------------------------------------------------------- \n",
      "|   Hamilton             |   Mythology                                |   144               |\n",
      "--------------------------------------------------------------------------------------------- \n"
     ]
    }
   ],
   "source": [
    "print(f\"{' ':->{94}}\")\n",
    "for book in lib:\n",
    "    print(f\"|   {book[0]:{20}} |   {book[1]:{40}} |   {book[2]:<{15}}   |\")\n",
    "    print(f\"{' ':->{94}}\")\n",
    "# We notice the last column of the first row has more than 10 characters. So we changed the last column's width to 15.\n",
    "# We completed the border of our table.\n",
    "# The sign < causes the white space in the last column accmulates at the end of the cell."
   ]
  },
  {
   "cell_type": "markdown",
   "metadata": {},
   "source": [
    "### While printing a list of tuples, we can use the following syntax too"
   ]
  },
  {
   "cell_type": "code",
   "execution_count": 108,
   "metadata": {},
   "outputs": [
    {
     "name": "stdout",
     "output_type": "stream",
     "text": [
      "Author               Title                                    Number of Pages\n",
      "Twain                Rafting                                         601\n",
      "Richard Feynman      Advanced Quantum Mechanics                     1595\n",
      "Hamilton             Mythology                                       144\n"
     ]
    }
   ],
   "source": [
    "for a, t, n in lib:\n",
    "    print(f'{a:{20}} {t:{40}} {n:{10}}')"
   ]
  },
  {
   "cell_type": "markdown",
   "metadata": {},
   "source": [
    "# Be aware of '=' sign inside of formatted strings"
   ]
  },
  {
   "cell_type": "code",
   "execution_count": 109,
   "metadata": {},
   "outputs": [
    {
     "name": "stdout",
     "output_type": "stream",
     "text": [
      "This is Kate's car.\n",
      "line = \"This is Kate's car.\"\n"
     ]
    }
   ],
   "source": [
    "line = \"This is Kate's car.\"\n",
    "print(f\"{line}\")\n",
    "print(f\"{line = }\")"
   ]
  },
  {
   "cell_type": "code",
   "execution_count": 110,
   "metadata": {},
   "outputs": [
    {
     "data": {
      "text/plain": [
       "\"This is Kate's car.\""
      ]
     },
     "execution_count": 110,
     "metadata": {},
     "output_type": "execute_result"
    }
   ],
   "source": [
    "line"
   ]
  },
  {
   "cell_type": "code",
   "execution_count": 111,
   "metadata": {},
   "outputs": [
    {
     "data": {
      "text/plain": [
       "'line = \"This is Kate\\'s car.\"'"
      ]
     },
     "execution_count": 111,
     "metadata": {},
     "output_type": "execute_result"
    }
   ],
   "source": [
    "f'{line = }'"
   ]
  },
  {
   "cell_type": "markdown",
   "metadata": {},
   "source": [
    "### Here is another example"
   ]
  },
  {
   "cell_type": "code",
   "execution_count": 112,
   "metadata": {},
   "outputs": [
    {
     "data": {
      "text/plain": [
       "'z = 57'"
      ]
     },
     "execution_count": 112,
     "metadata": {},
     "output_type": "execute_result"
    }
   ],
   "source": [
    "x = 12\n",
    "y = 45\n",
    "z = x + y\n",
    "f\"{z = }\""
   ]
  },
  {
   "cell_type": "code",
   "execution_count": 113,
   "metadata": {},
   "outputs": [
    {
     "data": {
      "text/plain": [
       "57"
      ]
     },
     "execution_count": 113,
     "metadata": {},
     "output_type": "execute_result"
    }
   ],
   "source": [
    "z"
   ]
  },
  {
   "cell_type": "markdown",
   "metadata": {},
   "source": [
    "For more information about string formatting and related topics see the following \n",
    "https://docs.python.org/3/reference/lexical_analysis.html"
   ]
  }
 ],
 "metadata": {
  "kernelspec": {
   "display_name": "Python 3",
   "language": "python",
   "name": "python3"
  },
  "language_info": {
   "codemirror_mode": {
    "name": "ipython",
    "version": 3
   },
   "file_extension": ".py",
   "mimetype": "text/x-python",
   "name": "python",
   "nbconvert_exporter": "python",
   "pygments_lexer": "ipython3",
   "version": "3.8.3"
  }
 },
 "nbformat": 4,
 "nbformat_minor": 4
}
